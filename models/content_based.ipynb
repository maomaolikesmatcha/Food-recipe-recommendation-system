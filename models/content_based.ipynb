{
 "cells": [
  {
   "cell_type": "markdown",
   "metadata": {},
   "source": [
    "## Content based recommender system base on recipes"
   ]
  },
  {
   "cell_type": "markdown",
   "metadata": {},
   "source": [
    "- vectorize the ingredients (feature extraction)\n",
    "\n",
    "- Calculate the similarity score for every recipe\n",
    "\n",
    "- Sort the recipe based on the score and output the top results"
   ]
  },
  {
   "cell_type": "code",
   "execution_count": 71,
   "metadata": {},
   "outputs": [],
   "source": [
    "import pandas as pd\n",
    "import numpy as np"
   ]
  },
  {
   "cell_type": "code",
   "execution_count": 72,
   "metadata": {},
   "outputs": [
    {
     "data": {
      "text/plain": [
       "(231637, 12)"
      ]
     },
     "execution_count": 72,
     "metadata": {},
     "output_type": "execute_result"
    }
   ],
   "source": [
    "df = pd.read_csv('recipes.csv')\n",
    "df.shape"
   ]
  },
  {
   "cell_type": "code",
   "execution_count": 73,
   "metadata": {},
   "outputs": [],
   "source": [
    "df[['calories','total fat (PDV)','sugar (PDV)','sodium (PDV)','protein (PDV)','saturated fat (PDV)','carbohydrates (PDV)']] = df.nutrition.str.split(\",\",expand=True) "
   ]
  },
  {
   "cell_type": "code",
   "execution_count": 74,
   "metadata": {},
   "outputs": [
    {
     "data": {
      "text/html": [
       "<div>\n",
       "<style scoped>\n",
       "    .dataframe tbody tr th:only-of-type {\n",
       "        vertical-align: middle;\n",
       "    }\n",
       "\n",
       "    .dataframe tbody tr th {\n",
       "        vertical-align: top;\n",
       "    }\n",
       "\n",
       "    .dataframe thead th {\n",
       "        text-align: right;\n",
       "    }\n",
       "</style>\n",
       "<table border=\"1\" class=\"dataframe\">\n",
       "  <thead>\n",
       "    <tr style=\"text-align: right;\">\n",
       "      <th></th>\n",
       "      <th>name</th>\n",
       "      <th>minutes</th>\n",
       "      <th>tags</th>\n",
       "      <th>steps</th>\n",
       "      <th>ingredients</th>\n",
       "      <th>calories</th>\n",
       "      <th>total fat (PDV)</th>\n",
       "      <th>sugar (PDV)</th>\n",
       "      <th>sodium (PDV)</th>\n",
       "      <th>protein (PDV)</th>\n",
       "      <th>saturated fat (PDV)</th>\n",
       "      <th>carbohydrates (PDV)</th>\n",
       "    </tr>\n",
       "  </thead>\n",
       "  <tbody>\n",
       "    <tr>\n",
       "      <th>0</th>\n",
       "      <td>arriba   baked winter squash mexican style</td>\n",
       "      <td>55</td>\n",
       "      <td>['60-minutes-or-less', 'time-to-make', 'course...</td>\n",
       "      <td>['make a choice and proceed with recipe', 'dep...</td>\n",
       "      <td>['winter squash', 'mexican seasoning', 'mixed ...</td>\n",
       "      <td>51.5</td>\n",
       "      <td>0.0</td>\n",
       "      <td>13.0</td>\n",
       "      <td>0.0</td>\n",
       "      <td>2.0</td>\n",
       "      <td>0.0</td>\n",
       "      <td>4.0</td>\n",
       "    </tr>\n",
       "    <tr>\n",
       "      <th>1</th>\n",
       "      <td>a bit different  breakfast pizza</td>\n",
       "      <td>30</td>\n",
       "      <td>['30-minutes-or-less', 'time-to-make', 'course...</td>\n",
       "      <td>['preheat oven to 425 degrees f', 'press dough...</td>\n",
       "      <td>['prepared pizza crust', 'sausage patty', 'egg...</td>\n",
       "      <td>173.4</td>\n",
       "      <td>18.0</td>\n",
       "      <td>0.0</td>\n",
       "      <td>17.0</td>\n",
       "      <td>22.0</td>\n",
       "      <td>35.0</td>\n",
       "      <td>1.0</td>\n",
       "    </tr>\n",
       "    <tr>\n",
       "      <th>2</th>\n",
       "      <td>all in the kitchen  chili</td>\n",
       "      <td>130</td>\n",
       "      <td>['time-to-make', 'course', 'preparation', 'mai...</td>\n",
       "      <td>['brown ground beef in large pot', 'add choppe...</td>\n",
       "      <td>['ground beef', 'yellow onions', 'diced tomato...</td>\n",
       "      <td>269.8</td>\n",
       "      <td>22.0</td>\n",
       "      <td>32.0</td>\n",
       "      <td>48.0</td>\n",
       "      <td>39.0</td>\n",
       "      <td>27.0</td>\n",
       "      <td>5.0</td>\n",
       "    </tr>\n",
       "    <tr>\n",
       "      <th>3</th>\n",
       "      <td>alouette  potatoes</td>\n",
       "      <td>45</td>\n",
       "      <td>['60-minutes-or-less', 'time-to-make', 'course...</td>\n",
       "      <td>['place potatoes in a large pot of lightly sal...</td>\n",
       "      <td>['spreadable cheese with garlic and herbs', 'n...</td>\n",
       "      <td>368.1</td>\n",
       "      <td>17.0</td>\n",
       "      <td>10.0</td>\n",
       "      <td>2.0</td>\n",
       "      <td>14.0</td>\n",
       "      <td>8.0</td>\n",
       "      <td>20.0</td>\n",
       "    </tr>\n",
       "    <tr>\n",
       "      <th>4</th>\n",
       "      <td>amish  tomato ketchup  for canning</td>\n",
       "      <td>190</td>\n",
       "      <td>['weeknight', 'time-to-make', 'course', 'main-...</td>\n",
       "      <td>['mix all ingredients&amp; boil for 2 1 / 2 hours ...</td>\n",
       "      <td>['tomato juice', 'apple cider vinegar', 'sugar...</td>\n",
       "      <td>352.9</td>\n",
       "      <td>1.0</td>\n",
       "      <td>337.0</td>\n",
       "      <td>23.0</td>\n",
       "      <td>3.0</td>\n",
       "      <td>0.0</td>\n",
       "      <td>28.0</td>\n",
       "    </tr>\n",
       "  </tbody>\n",
       "</table>\n",
       "</div>"
      ],
      "text/plain": [
       "                                         name  minutes  \\\n",
       "0  arriba   baked winter squash mexican style       55   \n",
       "1            a bit different  breakfast pizza       30   \n",
       "2                   all in the kitchen  chili      130   \n",
       "3                          alouette  potatoes       45   \n",
       "4          amish  tomato ketchup  for canning      190   \n",
       "\n",
       "                                                tags  \\\n",
       "0  ['60-minutes-or-less', 'time-to-make', 'course...   \n",
       "1  ['30-minutes-or-less', 'time-to-make', 'course...   \n",
       "2  ['time-to-make', 'course', 'preparation', 'mai...   \n",
       "3  ['60-minutes-or-less', 'time-to-make', 'course...   \n",
       "4  ['weeknight', 'time-to-make', 'course', 'main-...   \n",
       "\n",
       "                                               steps  \\\n",
       "0  ['make a choice and proceed with recipe', 'dep...   \n",
       "1  ['preheat oven to 425 degrees f', 'press dough...   \n",
       "2  ['brown ground beef in large pot', 'add choppe...   \n",
       "3  ['place potatoes in a large pot of lightly sal...   \n",
       "4  ['mix all ingredients& boil for 2 1 / 2 hours ...   \n",
       "\n",
       "                                         ingredients calories total fat (PDV)  \\\n",
       "0  ['winter squash', 'mexican seasoning', 'mixed ...     51.5             0.0   \n",
       "1  ['prepared pizza crust', 'sausage patty', 'egg...    173.4            18.0   \n",
       "2  ['ground beef', 'yellow onions', 'diced tomato...    269.8            22.0   \n",
       "3  ['spreadable cheese with garlic and herbs', 'n...    368.1            17.0   \n",
       "4  ['tomato juice', 'apple cider vinegar', 'sugar...    352.9             1.0   \n",
       "\n",
       "  sugar (PDV) sodium (PDV) protein (PDV) saturated fat (PDV)  \\\n",
       "0        13.0          0.0           2.0                 0.0   \n",
       "1         0.0         17.0          22.0                35.0   \n",
       "2        32.0         48.0          39.0                27.0   \n",
       "3        10.0          2.0          14.0                 8.0   \n",
       "4       337.0         23.0           3.0                 0.0   \n",
       "\n",
       "  carbohydrates (PDV)  \n",
       "0                 4.0  \n",
       "1                 1.0  \n",
       "2                 5.0  \n",
       "3                20.0  \n",
       "4                28.0  "
      ]
     },
     "execution_count": 74,
     "metadata": {},
     "output_type": "execute_result"
    }
   ],
   "source": [
    "df['calories'] = df['calories'].apply(lambda x: x.replace('[', ''))\n",
    "df['carbohydrates (PDV)'] = df['carbohydrates (PDV)'].apply(lambda x: x.replace(']', ''))\n",
    "df = df.drop(columns=['id', 'submitted', 'description', 'nutrition', 'contributor_id', 'n_steps', 'n_ingredients'])\n",
    "df.head()"
   ]
  },
  {
   "cell_type": "code",
   "execution_count": 75,
   "metadata": {},
   "outputs": [],
   "source": [
    "# nutritions = df[['name', 'calories','total fat (PDV)','sugar (PDV)','sodium (PDV)','protein (PDV)','saturated fat (PDV)','carbohydrates (PDV)']]\n",
    "# nutritions.index = df['id']\n",
    "# nutritions.head()"
   ]
  },
  {
   "cell_type": "code",
   "execution_count": 76,
   "metadata": {},
   "outputs": [
    {
     "data": {
      "text/plain": [
       "name                   1\n",
       "minutes                0\n",
       "tags                   0\n",
       "steps                  0\n",
       "ingredients            0\n",
       "calories               0\n",
       "total fat (PDV)        0\n",
       "sugar (PDV)            0\n",
       "sodium (PDV)           0\n",
       "protein (PDV)          0\n",
       "saturated fat (PDV)    0\n",
       "carbohydrates (PDV)    0\n",
       "dtype: int64"
      ]
     },
     "execution_count": 76,
     "metadata": {},
     "output_type": "execute_result"
    }
   ],
   "source": [
    "df.isna().sum()"
   ]
  },
  {
   "cell_type": "code",
   "execution_count": 77,
   "metadata": {},
   "outputs": [
    {
     "data": {
      "text/plain": [
       "(10000, 12)"
      ]
     },
     "execution_count": 77,
     "metadata": {},
     "output_type": "execute_result"
    }
   ],
   "source": [
    "df = df.dropna()\n",
    "df = df[:10000]\n",
    "df.shape"
   ]
  },
  {
   "cell_type": "code",
   "execution_count": 78,
   "metadata": {},
   "outputs": [],
   "source": [
    "# df.index = df['id']\n",
    "# df = df.drop(columns = 'id')"
   ]
  },
  {
   "cell_type": "code",
   "execution_count": 79,
   "metadata": {},
   "outputs": [],
   "source": [
    "# import ast\n",
    "# df['ingredients'] = df['ingredients'].apply(lambda x: ast.literal_eval(x))"
   ]
  },
  {
   "cell_type": "code",
   "execution_count": 80,
   "metadata": {},
   "outputs": [
    {
     "name": "stdout",
     "output_type": "stream",
     "text": [
      "['winter squash', 'mexican seasoning', 'mixed spice', 'honey', 'butter', 'olive oil', 'salt']\n"
     ]
    },
    {
     "data": {
      "text/html": [
       "<div>\n",
       "<style scoped>\n",
       "    .dataframe tbody tr th:only-of-type {\n",
       "        vertical-align: middle;\n",
       "    }\n",
       "\n",
       "    .dataframe tbody tr th {\n",
       "        vertical-align: top;\n",
       "    }\n",
       "\n",
       "    .dataframe thead th {\n",
       "        text-align: right;\n",
       "    }\n",
       "</style>\n",
       "<table border=\"1\" class=\"dataframe\">\n",
       "  <thead>\n",
       "    <tr style=\"text-align: right;\">\n",
       "      <th></th>\n",
       "      <th>name</th>\n",
       "      <th>minutes</th>\n",
       "      <th>tags</th>\n",
       "      <th>steps</th>\n",
       "      <th>ingredients</th>\n",
       "      <th>calories</th>\n",
       "      <th>total fat (PDV)</th>\n",
       "      <th>sugar (PDV)</th>\n",
       "      <th>sodium (PDV)</th>\n",
       "      <th>protein (PDV)</th>\n",
       "      <th>saturated fat (PDV)</th>\n",
       "      <th>carbohydrates (PDV)</th>\n",
       "    </tr>\n",
       "  </thead>\n",
       "  <tbody>\n",
       "    <tr>\n",
       "      <th>0</th>\n",
       "      <td>arriba   baked winter squash mexican style</td>\n",
       "      <td>55</td>\n",
       "      <td>['60-minutes-or-less', 'time-to-make', 'course...</td>\n",
       "      <td>['make a choice and proceed with recipe', 'dep...</td>\n",
       "      <td>['winter squash', 'mexican seasoning', 'mixed ...</td>\n",
       "      <td>51.5</td>\n",
       "      <td>0.0</td>\n",
       "      <td>13.0</td>\n",
       "      <td>0.0</td>\n",
       "      <td>2.0</td>\n",
       "      <td>0.0</td>\n",
       "      <td>4.0</td>\n",
       "    </tr>\n",
       "    <tr>\n",
       "      <th>1</th>\n",
       "      <td>a bit different  breakfast pizza</td>\n",
       "      <td>30</td>\n",
       "      <td>['30-minutes-or-less', 'time-to-make', 'course...</td>\n",
       "      <td>['preheat oven to 425 degrees f', 'press dough...</td>\n",
       "      <td>['prepared pizza crust', 'sausage patty', 'egg...</td>\n",
       "      <td>173.4</td>\n",
       "      <td>18.0</td>\n",
       "      <td>0.0</td>\n",
       "      <td>17.0</td>\n",
       "      <td>22.0</td>\n",
       "      <td>35.0</td>\n",
       "      <td>1.0</td>\n",
       "    </tr>\n",
       "    <tr>\n",
       "      <th>2</th>\n",
       "      <td>all in the kitchen  chili</td>\n",
       "      <td>130</td>\n",
       "      <td>['time-to-make', 'course', 'preparation', 'mai...</td>\n",
       "      <td>['brown ground beef in large pot', 'add choppe...</td>\n",
       "      <td>['ground beef', 'yellow onions', 'diced tomato...</td>\n",
       "      <td>269.8</td>\n",
       "      <td>22.0</td>\n",
       "      <td>32.0</td>\n",
       "      <td>48.0</td>\n",
       "      <td>39.0</td>\n",
       "      <td>27.0</td>\n",
       "      <td>5.0</td>\n",
       "    </tr>\n",
       "    <tr>\n",
       "      <th>3</th>\n",
       "      <td>alouette  potatoes</td>\n",
       "      <td>45</td>\n",
       "      <td>['60-minutes-or-less', 'time-to-make', 'course...</td>\n",
       "      <td>['place potatoes in a large pot of lightly sal...</td>\n",
       "      <td>['spreadable cheese with garlic and herbs', 'n...</td>\n",
       "      <td>368.1</td>\n",
       "      <td>17.0</td>\n",
       "      <td>10.0</td>\n",
       "      <td>2.0</td>\n",
       "      <td>14.0</td>\n",
       "      <td>8.0</td>\n",
       "      <td>20.0</td>\n",
       "    </tr>\n",
       "    <tr>\n",
       "      <th>4</th>\n",
       "      <td>amish  tomato ketchup  for canning</td>\n",
       "      <td>190</td>\n",
       "      <td>['weeknight', 'time-to-make', 'course', 'main-...</td>\n",
       "      <td>['mix all ingredients&amp; boil for 2 1 / 2 hours ...</td>\n",
       "      <td>['tomato juice', 'apple cider vinegar', 'sugar...</td>\n",
       "      <td>352.9</td>\n",
       "      <td>1.0</td>\n",
       "      <td>337.0</td>\n",
       "      <td>23.0</td>\n",
       "      <td>3.0</td>\n",
       "      <td>0.0</td>\n",
       "      <td>28.0</td>\n",
       "    </tr>\n",
       "  </tbody>\n",
       "</table>\n",
       "</div>"
      ],
      "text/plain": [
       "                                         name  minutes  \\\n",
       "0  arriba   baked winter squash mexican style       55   \n",
       "1            a bit different  breakfast pizza       30   \n",
       "2                   all in the kitchen  chili      130   \n",
       "3                          alouette  potatoes       45   \n",
       "4          amish  tomato ketchup  for canning      190   \n",
       "\n",
       "                                                tags  \\\n",
       "0  ['60-minutes-or-less', 'time-to-make', 'course...   \n",
       "1  ['30-minutes-or-less', 'time-to-make', 'course...   \n",
       "2  ['time-to-make', 'course', 'preparation', 'mai...   \n",
       "3  ['60-minutes-or-less', 'time-to-make', 'course...   \n",
       "4  ['weeknight', 'time-to-make', 'course', 'main-...   \n",
       "\n",
       "                                               steps  \\\n",
       "0  ['make a choice and proceed with recipe', 'dep...   \n",
       "1  ['preheat oven to 425 degrees f', 'press dough...   \n",
       "2  ['brown ground beef in large pot', 'add choppe...   \n",
       "3  ['place potatoes in a large pot of lightly sal...   \n",
       "4  ['mix all ingredients& boil for 2 1 / 2 hours ...   \n",
       "\n",
       "                                         ingredients calories total fat (PDV)  \\\n",
       "0  ['winter squash', 'mexican seasoning', 'mixed ...     51.5             0.0   \n",
       "1  ['prepared pizza crust', 'sausage patty', 'egg...    173.4            18.0   \n",
       "2  ['ground beef', 'yellow onions', 'diced tomato...    269.8            22.0   \n",
       "3  ['spreadable cheese with garlic and herbs', 'n...    368.1            17.0   \n",
       "4  ['tomato juice', 'apple cider vinegar', 'sugar...    352.9             1.0   \n",
       "\n",
       "  sugar (PDV) sodium (PDV) protein (PDV) saturated fat (PDV)  \\\n",
       "0        13.0          0.0           2.0                 0.0   \n",
       "1         0.0         17.0          22.0                35.0   \n",
       "2        32.0         48.0          39.0                27.0   \n",
       "3        10.0          2.0          14.0                 8.0   \n",
       "4       337.0         23.0           3.0                 0.0   \n",
       "\n",
       "  carbohydrates (PDV)  \n",
       "0                 4.0  \n",
       "1                 1.0  \n",
       "2                 5.0  \n",
       "3                20.0  \n",
       "4                28.0  "
      ]
     },
     "execution_count": 80,
     "metadata": {},
     "output_type": "execute_result"
    }
   ],
   "source": [
    "from nltk.stem import LancasterStemmer\n",
    "ls = LancasterStemmer()\n",
    "def treat_ingredients(input):\n",
    "    output = []\n",
    "    for ingredient in input:\n",
    "        ingredient_list = ingredient.split(' ')\n",
    "        output.append(\" \".join(ingredient_list))\n",
    "    return \"\".join(output)\n",
    "\n",
    "df['ingredients'] = df['ingredients'].apply(lambda x: [ls.stem(w) for w in x])\n",
    "df['ingredients'] = df['ingredients'].apply(lambda x : treat_ingredients(x))\n",
    "\n",
    "print(df['ingredients'][0])\n",
    "\n",
    "df.head()"
   ]
  },
  {
   "cell_type": "code",
   "execution_count": 81,
   "metadata": {},
   "outputs": [
    {
     "data": {
      "text/plain": [
       "0    Arriba  Baked Winter Squash Mexican Style\n",
       "1              A Bit Different Breakfast Pizza\n",
       "2                     All In The Kitchen Chili\n",
       "3                            Alouette Potatoes\n",
       "4             Amish Tomato Ketchup For Canning\n",
       "Name: name, dtype: object"
      ]
     },
     "execution_count": 81,
     "metadata": {},
     "output_type": "execute_result"
    }
   ],
   "source": [
    "df['name'] = df['name'].apply(lambda x : x.replace('  ', ' '))\n",
    "# df['name'] = df['name'].apply(lambda x : x.replace(r'^\\sS$', '\\'s'))\n",
    "df['name'] = df['name'].str.title()\n",
    "df['name'].head()"
   ]
  },
  {
   "cell_type": "code",
   "execution_count": 82,
   "metadata": {},
   "outputs": [],
   "source": [
    "from sklearn.feature_extraction.text import TfidfVectorizer\n",
    "tfidf = TfidfVectorizer(stop_words='english', max_df = 0.7,min_df = 2)\n",
    "ing_tfidf = tfidf.fit_transform(df['ingredients'])"
   ]
  },
  {
   "cell_type": "code",
   "execution_count": 83,
   "metadata": {},
   "outputs": [
    {
     "name": "stdout",
     "output_type": "stream",
     "text": [
      "(10000, 1552)\n"
     ]
    },
    {
     "name": "stderr",
     "output_type": "stream",
     "text": [
      "/Users/siyumao/opt/anaconda3/lib/python3.9/site-packages/sklearn/utils/deprecation.py:87: FutureWarning: Function get_feature_names is deprecated; get_feature_names is deprecated in 1.0 and will be removed in 1.2. Please use get_feature_names_out instead.\n",
      "  warnings.warn(msg, category=FutureWarning)\n"
     ]
    },
    {
     "data": {
      "text/plain": [
       "['acid',\n",
       " 'acini',\n",
       " 'acorn',\n",
       " 'acting',\n",
       " 'active',\n",
       " 'added',\n",
       " 'adobo',\n",
       " 'adzuki',\n",
       " 'agave',\n",
       " 'ahi']"
      ]
     },
     "execution_count": 83,
     "metadata": {},
     "output_type": "execute_result"
    }
   ],
   "source": [
    "print(ing_tfidf.shape)\n",
    "tfidf.get_feature_names()[10:20]"
   ]
  },
  {
   "cell_type": "code",
   "execution_count": 84,
   "metadata": {},
   "outputs": [
    {
     "data": {
      "text/plain": [
       "(10000, 10000)"
      ]
     },
     "execution_count": 84,
     "metadata": {},
     "output_type": "execute_result"
    }
   ],
   "source": [
    "from sklearn.metrics.pairwise import linear_kernel\n",
    "cosine_sim = linear_kernel(ing_tfidf, ing_tfidf)\n",
    "cosine_sim.shape"
   ]
  },
  {
   "cell_type": "code",
   "execution_count": 85,
   "metadata": {},
   "outputs": [
    {
     "data": {
      "text/plain": [
       "array([0.01460993, 1.        , 0.03490268, ..., 0.04130069, 0.        ,\n",
       "       0.        ])"
      ]
     },
     "execution_count": 85,
     "metadata": {},
     "output_type": "execute_result"
    }
   ],
   "source": [
    "cosine_sim[1]"
   ]
  },
  {
   "cell_type": "code",
   "execution_count": 86,
   "metadata": {},
   "outputs": [
    {
     "name": "stdout",
     "output_type": "stream",
     "text": [
      "The choosen recipe is 1937 Strawberry Shortcake\n",
      "Recommended recipes are: ['Apple Crunch Cakelets Muffins', 'Apple Grunt', 'Apple Doughnuts Baked', 'Make It Your Way Shortcakes', 'Apple Puff Bake']\n"
     ]
    }
   ],
   "source": [
    "# Get the pairwsie similarity scores of all movies with that movie\n",
    "sim_scores = list(enumerate(cosine_sim[1013]))\n",
    "\n",
    "# Sort the movies based on the similarity scores\n",
    "sim_scores = sorted(sim_scores, key=lambda x: x[1], reverse=True)\n",
    "\n",
    "# Get the scores of the 10 most similar recipes\n",
    "sim_scores = sim_scores[1:6]\n",
    "\n",
    "# Get the ingredient indices\n",
    "ing_indices = [i[0] for i in sim_scores]\n",
    "\n",
    "result = df.iloc[ing_indices]\n",
    "\n",
    "print(f'The choosen recipe is {df.name.iloc[1013]}')\n",
    "print(f'Recommended recipes are: {result.name.values.tolist()}')\n",
    "\n"
   ]
  },
  {
   "cell_type": "code",
   "execution_count": 87,
   "metadata": {},
   "outputs": [
    {
     "data": {
      "text/html": [
       "<div>\n",
       "<style scoped>\n",
       "    .dataframe tbody tr th:only-of-type {\n",
       "        vertical-align: middle;\n",
       "    }\n",
       "\n",
       "    .dataframe tbody tr th {\n",
       "        vertical-align: top;\n",
       "    }\n",
       "\n",
       "    .dataframe thead th {\n",
       "        text-align: right;\n",
       "    }\n",
       "</style>\n",
       "<table border=\"1\" class=\"dataframe\">\n",
       "  <thead>\n",
       "    <tr style=\"text-align: right;\">\n",
       "      <th></th>\n",
       "      <th>name</th>\n",
       "      <th>minutes</th>\n",
       "      <th>tags</th>\n",
       "      <th>steps</th>\n",
       "      <th>ingredients</th>\n",
       "      <th>calories</th>\n",
       "      <th>total fat (PDV)</th>\n",
       "      <th>sugar (PDV)</th>\n",
       "      <th>sodium (PDV)</th>\n",
       "      <th>protein (PDV)</th>\n",
       "      <th>saturated fat (PDV)</th>\n",
       "      <th>carbohydrates (PDV)</th>\n",
       "    </tr>\n",
       "  </thead>\n",
       "  <tbody>\n",
       "    <tr>\n",
       "      <th>1940</th>\n",
       "      <td>A Fully Monty  Healthier Version</td>\n",
       "      <td>35</td>\n",
       "      <td>['60-minutes-or-less', 'time-to-make', 'course...</td>\n",
       "      <td>['prep your full monty:', 'preheat the broiler...</td>\n",
       "      <td>['tomatoes', 'portabella mushrooms', 'canadian...</td>\n",
       "      <td>770.4</td>\n",
       "      <td>62.0</td>\n",
       "      <td>70.0</td>\n",
       "      <td>90.0</td>\n",
       "      <td>97.0</td>\n",
       "      <td>62.0</td>\n",
       "      <td>18.0</td>\n",
       "    </tr>\n",
       "    <tr>\n",
       "      <th>4576</th>\n",
       "      <td>Amazing Breakfast Bake</td>\n",
       "      <td>115</td>\n",
       "      <td>['time-to-make', 'course', 'main-ingredient', ...</td>\n",
       "      <td>['preheat the oven to 350 degree f', 'lightly ...</td>\n",
       "      <td>['unsalted butter', 'yellow onion', 'green bel...</td>\n",
       "      <td>850.0</td>\n",
       "      <td>61.0</td>\n",
       "      <td>31.0</td>\n",
       "      <td>86.0</td>\n",
       "      <td>80.0</td>\n",
       "      <td>98.0</td>\n",
       "      <td>26.0</td>\n",
       "    </tr>\n",
       "  </tbody>\n",
       "</table>\n",
       "</div>"
      ],
      "text/plain": [
       "                                  name  minutes  \\\n",
       "1940  A Fully Monty  Healthier Version       35   \n",
       "4576            Amazing Breakfast Bake      115   \n",
       "\n",
       "                                                   tags  \\\n",
       "1940  ['60-minutes-or-less', 'time-to-make', 'course...   \n",
       "4576  ['time-to-make', 'course', 'main-ingredient', ...   \n",
       "\n",
       "                                                  steps  \\\n",
       "1940  ['prep your full monty:', 'preheat the broiler...   \n",
       "4576  ['preheat the oven to 350 degree f', 'lightly ...   \n",
       "\n",
       "                                            ingredients calories  \\\n",
       "1940  ['tomatoes', 'portabella mushrooms', 'canadian...    770.4   \n",
       "4576  ['unsalted butter', 'yellow onion', 'green bel...    850.0   \n",
       "\n",
       "     total fat (PDV) sugar (PDV) sodium (PDV) protein (PDV)  \\\n",
       "1940            62.0        70.0         90.0          97.0   \n",
       "4576            61.0        31.0         86.0          80.0   \n",
       "\n",
       "     saturated fat (PDV) carbohydrates (PDV)  \n",
       "1940                62.0                18.0  \n",
       "4576                98.0                26.0  "
      ]
     },
     "execution_count": 87,
     "metadata": {},
     "output_type": "execute_result"
    }
   ],
   "source": [
    "# testing\n",
    "input = ['eggs', 'sausage', 'bacon', 'salt']\n",
    "results1 = df.loc[df.ingredients.str.contains(r'(?=.*{})(?=.*{})(?=.*{})(?=.*{})'.format(input[0], input[1], input[2], input[3])) == True]\n",
    "results1.head(2)"
   ]
  },
  {
   "cell_type": "code",
   "execution_count": 88,
   "metadata": {},
   "outputs": [],
   "source": [
    "def get_recommendations(input):\n",
    "    if len(input) == 1:\n",
    "        results = df.loc[df.ingredients.str.contains(r'(?=.*{})'.format(input[0])) == True]\n",
    "    elif len(input) == 2:\n",
    "        results = df.loc[df.ingredients.str.contains(r'(?=.*{})(?=.*{})'.format(input[0], input[1])) == True]\n",
    "    elif len(input) == 3:\n",
    "        results = df.loc[df.ingredients.str.contains(r'(?=.*{})(?=.*{})(?=.*{})'.format(input[0], input[1], input[2])) == True]\n",
    "    else:\n",
    "        results = df.loc[df.ingredients.str.contains(r'(?=.*{})(?=.*{})(?=.*{})(?=.*{})'.format(input[0], input[1], input[2], input[3])) == True]\n",
    "    return results.drop(columns=['tags']).head()"
   ]
  },
  {
   "cell_type": "code",
   "execution_count": 114,
   "metadata": {},
   "outputs": [
    {
     "data": {
      "text/plain": [
       "'Beat This Banana Bread'"
      ]
     },
     "execution_count": 114,
     "metadata": {},
     "output_type": "execute_result"
    }
   ],
   "source": [
    "# testing\n",
    "input = ['cake']\n",
    "get_recommendations(input).name.values[0]\n"
   ]
  },
  {
   "cell_type": "code",
   "execution_count": 115,
   "metadata": {},
   "outputs": [
    {
     "name": "stdout",
     "output_type": "stream",
     "text": [
      "The choosen recipe is Beat This Banana Bread\n",
      "\n",
      "Recommended recipes are: \n",
      "Almost Starbucks Frappuccino\n",
      "3 Ingredient Ice Cream Sandwich Cake\n",
      "A Homemade  Sundae\n",
      "4 Inch Strawberry Chocolate Cheesecake\n",
      "Absolutely Anything Ice Cream Layer Log\n"
     ]
    },
    {
     "data": {
      "text/html": [
       "<div>\n",
       "<style scoped>\n",
       "    .dataframe tbody tr th:only-of-type {\n",
       "        vertical-align: middle;\n",
       "    }\n",
       "\n",
       "    .dataframe tbody tr th {\n",
       "        vertical-align: top;\n",
       "    }\n",
       "\n",
       "    .dataframe thead th {\n",
       "        text-align: right;\n",
       "    }\n",
       "</style>\n",
       "<table border=\"1\" class=\"dataframe\">\n",
       "  <thead>\n",
       "    <tr style=\"text-align: right;\">\n",
       "      <th></th>\n",
       "      <th>name</th>\n",
       "      <th>minutes</th>\n",
       "      <th>steps</th>\n",
       "      <th>ingredients</th>\n",
       "      <th>calories</th>\n",
       "      <th>total fat (PDV)</th>\n",
       "      <th>sugar (PDV)</th>\n",
       "      <th>sodium (PDV)</th>\n",
       "      <th>protein (PDV)</th>\n",
       "      <th>saturated fat (PDV)</th>\n",
       "      <th>carbohydrates (PDV)</th>\n",
       "    </tr>\n",
       "  </thead>\n",
       "  <tbody>\n",
       "    <tr>\n",
       "      <th>311</th>\n",
       "      <td>Almost Starbucks Frappuccino</td>\n",
       "      <td>5</td>\n",
       "      <td>['in a blender combine coffee with ice cream a...</td>\n",
       "      <td>['strong coffee', 'chocolate ice cream', 'choc...</td>\n",
       "      <td>313.0</td>\n",
       "      <td>19.0</td>\n",
       "      <td>136.0</td>\n",
       "      <td>8.0</td>\n",
       "      <td>10.0</td>\n",
       "      <td>35.0</td>\n",
       "      <td>15.0</td>\n",
       "    </tr>\n",
       "    <tr>\n",
       "      <th>1254</th>\n",
       "      <td>3 Ingredient Ice Cream Sandwich Cake</td>\n",
       "      <td>365</td>\n",
       "      <td>['arrange 4 ice cream sandwiches long sides to...</td>\n",
       "      <td>['ice cream sandwiches', 'chocolate whipped cr...</td>\n",
       "      <td>75.5</td>\n",
       "      <td>4.0</td>\n",
       "      <td>26.0</td>\n",
       "      <td>3.0</td>\n",
       "      <td>1.0</td>\n",
       "      <td>5.0</td>\n",
       "      <td>3.0</td>\n",
       "    </tr>\n",
       "    <tr>\n",
       "      <th>1960</th>\n",
       "      <td>A Homemade  Sundae</td>\n",
       "      <td>6</td>\n",
       "      <td>['in tall sundae glass start with a drizzle of...</td>\n",
       "      <td>['vanilla ice cream', 'hersheys chocolate syru...</td>\n",
       "      <td>72.4</td>\n",
       "      <td>6.0</td>\n",
       "      <td>30.0</td>\n",
       "      <td>1.0</td>\n",
       "      <td>2.0</td>\n",
       "      <td>12.0</td>\n",
       "      <td>2.0</td>\n",
       "    </tr>\n",
       "    <tr>\n",
       "      <th>1431</th>\n",
       "      <td>4 Inch Strawberry Chocolate Cheesecake</td>\n",
       "      <td>495</td>\n",
       "      <td>['crust: mix cookies and butter until crumbs a...</td>\n",
       "      <td>['chocolate sandwich style cookies', 'butter',...</td>\n",
       "      <td>249.3</td>\n",
       "      <td>28.0</td>\n",
       "      <td>59.0</td>\n",
       "      <td>8.0</td>\n",
       "      <td>7.0</td>\n",
       "      <td>50.0</td>\n",
       "      <td>6.0</td>\n",
       "    </tr>\n",
       "    <tr>\n",
       "      <th>2301</th>\n",
       "      <td>Absolutely Anything Ice Cream Layer Log</td>\n",
       "      <td>30</td>\n",
       "      <td>['take ice cream out of freezer to soften', 'c...</td>\n",
       "      <td>['vanilla ice cream', 'ice cream topping']</td>\n",
       "      <td>2185.9</td>\n",
       "      <td>178.0</td>\n",
       "      <td>896.0</td>\n",
       "      <td>35.0</td>\n",
       "      <td>73.0</td>\n",
       "      <td>358.0</td>\n",
       "      <td>83.0</td>\n",
       "    </tr>\n",
       "  </tbody>\n",
       "</table>\n",
       "</div>"
      ],
      "text/plain": [
       "                                         name  minutes  \\\n",
       "311              Almost Starbucks Frappuccino        5   \n",
       "1254     3 Ingredient Ice Cream Sandwich Cake      365   \n",
       "1960                       A Homemade  Sundae        6   \n",
       "1431   4 Inch Strawberry Chocolate Cheesecake      495   \n",
       "2301  Absolutely Anything Ice Cream Layer Log       30   \n",
       "\n",
       "                                                  steps  \\\n",
       "311   ['in a blender combine coffee with ice cream a...   \n",
       "1254  ['arrange 4 ice cream sandwiches long sides to...   \n",
       "1960  ['in tall sundae glass start with a drizzle of...   \n",
       "1431  ['crust: mix cookies and butter until crumbs a...   \n",
       "2301  ['take ice cream out of freezer to soften', 'c...   \n",
       "\n",
       "                                            ingredients calories  \\\n",
       "311   ['strong coffee', 'chocolate ice cream', 'choc...    313.0   \n",
       "1254  ['ice cream sandwiches', 'chocolate whipped cr...     75.5   \n",
       "1960  ['vanilla ice cream', 'hersheys chocolate syru...     72.4   \n",
       "1431  ['chocolate sandwich style cookies', 'butter',...    249.3   \n",
       "2301         ['vanilla ice cream', 'ice cream topping']   2185.9   \n",
       "\n",
       "     total fat (PDV) sugar (PDV) sodium (PDV) protein (PDV)  \\\n",
       "311             19.0       136.0          8.0          10.0   \n",
       "1254             4.0        26.0          3.0           1.0   \n",
       "1960             6.0        30.0          1.0           2.0   \n",
       "1431            28.0        59.0          8.0           7.0   \n",
       "2301           178.0       896.0         35.0          73.0   \n",
       "\n",
       "     saturated fat (PDV) carbohydrates (PDV)  \n",
       "311                 35.0                15.0  \n",
       "1254                 5.0                 3.0  \n",
       "1960                12.0                 2.0  \n",
       "1431                50.0                 6.0  \n",
       "2301               358.0                83.0  "
      ]
     },
     "execution_count": 115,
     "metadata": {},
     "output_type": "execute_result"
    }
   ],
   "source": [
    "def more_recipes_with_similar_ingredients(input):\n",
    "    results = get_recommendations(input)\n",
    "    recipe_name = results.name.values[0]\n",
    "    # get the initial recipe's index\n",
    "    initial_recipe = results.loc[results['name'] == recipe_name]\n",
    "    idx = initial_recipe.index[0] - 1\n",
    "\n",
    "    # Get the pairwsie similarity scores of all ing with ing\n",
    "    sim_scores = list(enumerate(cosine_sim[idx]))\n",
    "\n",
    "    # Sort the ing based on the similarity scores\n",
    "    sim_scores = sorted(sim_scores, key=lambda x: x[1], reverse=True)\n",
    "\n",
    "    # Get the scores of top 5 most similar ing\n",
    "    sim_scores = sim_scores[1:6]\n",
    "\n",
    "    # Get the ingredient indices for recipes\n",
    "    ing_indices = [i[0] for i in sim_scores]\n",
    "\n",
    "    # get dataframe \n",
    "    result = df.iloc[ing_indices].drop(columns='tags')\n",
    "    # result = result.sort_values('calories', ascending=True)\n",
    "\n",
    "    # print(f'The choosen recipe is {recipe_name}\\n')\n",
    "    # print('Recommended recipes are: ', *result.name.values, sep='\\n')\n",
    "    return result\n",
    "\n",
    "\n",
    "more_recipes_with_similar_ingredients(input)"
   ]
  },
  {
   "cell_type": "code",
   "execution_count": null,
   "metadata": {},
   "outputs": [
    {
     "data": {
      "text/html": [
       "<div>\n",
       "<style scoped>\n",
       "    .dataframe tbody tr th:only-of-type {\n",
       "        vertical-align: middle;\n",
       "    }\n",
       "\n",
       "    .dataframe tbody tr th {\n",
       "        vertical-align: top;\n",
       "    }\n",
       "\n",
       "    .dataframe thead th {\n",
       "        text-align: right;\n",
       "    }\n",
       "</style>\n",
       "<table border=\"1\" class=\"dataframe\">\n",
       "  <thead>\n",
       "    <tr style=\"text-align: right;\">\n",
       "      <th></th>\n",
       "      <th>name</th>\n",
       "      <th>minutes</th>\n",
       "      <th>steps</th>\n",
       "      <th>ingredients</th>\n",
       "      <th>calories</th>\n",
       "      <th>total fat (PDV)</th>\n",
       "      <th>sugar (PDV)</th>\n",
       "      <th>sodium (PDV)</th>\n",
       "      <th>protein (PDV)</th>\n",
       "      <th>saturated fat (PDV)</th>\n",
       "      <th>carbohydrates (PDV)</th>\n",
       "    </tr>\n",
       "  </thead>\n",
       "  <tbody>\n",
       "    <tr>\n",
       "      <th>5439</th>\n",
       "      <td>Angel Hair Primavera</td>\n",
       "      <td>25</td>\n",
       "      <td>['heat a large pot of water over a medium heat...</td>\n",
       "      <td>[angel hair pasta, broccoli, carrot, chicken b...</td>\n",
       "      <td>842.9</td>\n",
       "      <td>64.0</td>\n",
       "      <td>31.0</td>\n",
       "      <td>13.0</td>\n",
       "      <td>44.0</td>\n",
       "      <td>37.0</td>\n",
       "      <td>31.0</td>\n",
       "    </tr>\n",
       "    <tr>\n",
       "      <th>4136</th>\n",
       "      <td>Aloha Carrots</td>\n",
       "      <td>30</td>\n",
       "      <td>['combine carrots , water and salt in a saucep...</td>\n",
       "      <td>[baby carrots, brown sugar, butter, crushed pi...</td>\n",
       "      <td>95.3</td>\n",
       "      <td>3.0</td>\n",
       "      <td>63.0</td>\n",
       "      <td>16.0</td>\n",
       "      <td>1.0</td>\n",
       "      <td>6.0</td>\n",
       "      <td>6.0</td>\n",
       "    </tr>\n",
       "    <tr>\n",
       "      <th>7142</th>\n",
       "      <td>Apple Pie With Walnut Streusel</td>\n",
       "      <td>105</td>\n",
       "      <td>['to make topping: in a small bowl with your f...</td>\n",
       "      <td>[all-purpose flour, brown sugar, cinnamon, fre...</td>\n",
       "      <td>331.4</td>\n",
       "      <td>16.0</td>\n",
       "      <td>171.0</td>\n",
       "      <td>4.0</td>\n",
       "      <td>4.0</td>\n",
       "      <td>19.0</td>\n",
       "      <td>19.0</td>\n",
       "    </tr>\n",
       "  </tbody>\n",
       "</table>\n",
       "</div>"
      ],
      "text/plain": [
       "                                name  minutes  \\\n",
       "5439            Angel Hair Primavera       25   \n",
       "4136                   Aloha Carrots       30   \n",
       "7142  Apple Pie With Walnut Streusel      105   \n",
       "\n",
       "                                                  steps  \\\n",
       "5439  ['heat a large pot of water over a medium heat...   \n",
       "4136  ['combine carrots , water and salt in a saucep...   \n",
       "7142  ['to make topping: in a small bowl with your f...   \n",
       "\n",
       "                                            ingredients calories  \\\n",
       "5439  [angel hair pasta, broccoli, carrot, chicken b...    842.9   \n",
       "4136  [baby carrots, brown sugar, butter, crushed pi...     95.3   \n",
       "7142  [all-purpose flour, brown sugar, cinnamon, fre...    331.4   \n",
       "\n",
       "     total fat (PDV) sugar (PDV) sodium (PDV) protein (PDV)  \\\n",
       "5439            64.0        31.0         13.0          44.0   \n",
       "4136             3.0        63.0         16.0           1.0   \n",
       "7142            16.0       171.0          4.0           4.0   \n",
       "\n",
       "     saturated fat (PDV) carbohydrates (PDV)  \n",
       "5439                37.0                31.0  \n",
       "4136                 6.0                 6.0  \n",
       "7142                19.0                19.0  "
      ]
     },
     "execution_count": 61,
     "metadata": {},
     "output_type": "execute_result"
    }
   ],
   "source": [
    "# randomized options if none of the recipes are interesting\n",
    "def surprise_me(category):\n",
    "    random = df.loc[df.tags.str.contains(category) == True].sample(3)\n",
    "    return random.drop(columns=['tags'])\n",
    "\n",
    "surprise_me('dietary')"
   ]
  },
  {
   "cell_type": "code",
   "execution_count": 122,
   "metadata": {},
   "outputs": [],
   "source": [
    "df.to_csv('final_df1.csv')"
   ]
  },
  {
   "cell_type": "code",
   "execution_count": 120,
   "metadata": {},
   "outputs": [],
   "source": [
    "df.calories = df.calories.astype('float')\n",
    "df.minutes = df.minutes.astype('float')\n",
    "df['total fat (PDV)'] = df['total fat (PDV)'].astype('float')\n",
    "df['sugar (PDV)'] = df['sugar (PDV)'].astype('float')\n",
    "df['protein (PDV)'] = df['protein (PDV)'].astype('float')\n",
    "df['saturated fat (PDV)'] = df['saturated fat (PDV)'].astype('float')\n",
    "df['carbohydrates (PDV)'] = df['carbohydrates (PDV)'].astype('float')"
   ]
  },
  {
   "cell_type": "code",
   "execution_count": 121,
   "metadata": {},
   "outputs": [
    {
     "name": "stdout",
     "output_type": "stream",
     "text": [
      "<class 'pandas.core.frame.DataFrame'>\n",
      "Int64Index: 10000 entries, 0 to 10000\n",
      "Data columns (total 12 columns):\n",
      " #   Column               Non-Null Count  Dtype  \n",
      "---  ------               --------------  -----  \n",
      " 0   name                 10000 non-null  object \n",
      " 1   minutes              10000 non-null  float64\n",
      " 2   tags                 10000 non-null  object \n",
      " 3   steps                10000 non-null  object \n",
      " 4   ingredients          10000 non-null  object \n",
      " 5   calories             10000 non-null  float64\n",
      " 6   total fat (PDV)      10000 non-null  float64\n",
      " 7   sugar (PDV)          10000 non-null  float64\n",
      " 8   sodium (PDV)         10000 non-null  object \n",
      " 9   protein (PDV)        10000 non-null  float64\n",
      " 10  saturated fat (PDV)  10000 non-null  float64\n",
      " 11  carbohydrates (PDV)  10000 non-null  float64\n",
      "dtypes: float64(7), object(5)\n",
      "memory usage: 1.2+ MB\n"
     ]
    }
   ],
   "source": [
    "df.info()"
   ]
  },
  {
   "cell_type": "code",
   "execution_count": 99,
   "metadata": {},
   "outputs": [],
   "source": [
    "import pickle              # import module first\n",
    "\n",
    "f = open('consine_sim', 'wb')   # Pickle file is newly created where foo1.py is\n",
    "pickle.dump(cosine_sim, f)          # dump data to f\n",
    "f.close()   \n",
    "\n",
    "# f = open('get_rec.pkl', 'wb')   # Pickle file is newly created where foo1.py is\n",
    "# pickle.dump(get_recommendations(), f)          # dump data to f\n",
    "# f.close() \n",
    "\n",
    "# f = open('more_rec.pkl', 'wb')   # Pickle file is newly created where foo1.py is\n",
    "# pickle.dump(more_recipes_with_similar_ingredients(), f)          # dump data to f\n",
    "# f.close() \n",
    "\n",
    "# f = open('surprise.pkl', 'wb')   # Pickle file is newly created where foo1.py is\n",
    "# pickle.dump(surprise_me(), f)          # dump data to f\n",
    "# f.close() \n",
    "\n"
   ]
  },
  {
   "cell_type": "code",
   "execution_count": null,
   "metadata": {},
   "outputs": [
    {
     "data": {
      "text/plain": [
       "\"['time-to-make', 'course', 'preparation', 'low-protein', 'healthy', 'side-dishes', 'easy', 'beginner-cook', 'low-fat', 'dietary', 'low-cholesterol', 'low-saturated-fat', 'low-calorie', 'healthy-2', 'low-in-something', 'number-of-servings', '4-hours-or-less']\""
      ]
     },
     "execution_count": 62,
     "metadata": {},
     "output_type": "execute_result"
    }
   ],
   "source": [
    "df.tags[530]"
   ]
  },
  {
   "cell_type": "markdown",
   "metadata": {},
   "source": [
    "### Word2vec"
   ]
  },
  {
   "cell_type": "code",
   "execution_count": null,
   "metadata": {},
   "outputs": [],
   "source": [
    "# def get_and_sort_corpus(df):\n",
    "#     corpus_sorted = []\n",
    "#     for doc in df.ingredients.values:\n",
    "#         doc.sort()\n",
    "#         corpus_sorted.append(doc)\n",
    "#     return corpus_sorted\n",
    "\n",
    "# corpus = get_and_sort_corpus(df)"
   ]
  },
  {
   "cell_type": "code",
   "execution_count": null,
   "metadata": {},
   "outputs": [],
   "source": [
    "# from gensim.models.word2vec import Word2Vec\n",
    "# # train word2vec model \n",
    "# sg = 0 # CBOW: build a language model that correctly predicts the center word given the context words in which the center word appears\n",
    "# workers = 8 # number of CPUs\n",
    "# window = 6 # window size: average length of each document \n",
    "# min_count = 1 # unique ingredients are important to decide recipes \n",
    "\n",
    "# model_cbow = Word2Vec(corpus, sg=sg, workers=workers, window=window, min_count=min_count, vector_size=100)"
   ]
  },
  {
   "cell_type": "code",
   "execution_count": null,
   "metadata": {},
   "outputs": [
    {
     "name": "stdout",
     "output_type": "stream",
     "text": [
      "Word2Vec(vocab=5332, vector_size=100, alpha=0.025)\n"
     ]
    },
    {
     "data": {
      "text/plain": [
       "0.92756176"
      ]
     },
     "execution_count": 41,
     "metadata": {},
     "output_type": "execute_result"
    }
   ],
   "source": [
    "# #Summarize the loaded model\n",
    "# print(model_cbow)\n",
    "\n",
    "# #Summarize vocabulary\n",
    "# words = list(model_cbow.wv.index_to_key)\n",
    "# words.sort()\n",
    "# # print(words)\n",
    "\n",
    "# #Acess vector for one word\n",
    "# model_cbow.wv.similarity('cream', 'butter')"
   ]
  }
 ],
 "metadata": {
  "interpreter": {
   "hash": "76dec9f8e9a0ad28f7713aaf1d6b9e91edb0459bd8b58ea7b175ce8765ec7de0"
  },
  "kernelspec": {
   "display_name": "Python 3.9.7 ('base')",
   "language": "python",
   "name": "python3"
  },
  "language_info": {
   "codemirror_mode": {
    "name": "ipython",
    "version": 3
   },
   "file_extension": ".py",
   "mimetype": "text/x-python",
   "name": "python",
   "nbconvert_exporter": "python",
   "pygments_lexer": "ipython3",
   "version": "3.9.7"
  },
  "orig_nbformat": 4
 },
 "nbformat": 4,
 "nbformat_minor": 2
}
